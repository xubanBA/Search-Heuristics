{
 "cells": [
  {
   "cell_type": "markdown",
   "metadata": {},
   "source": [
    "# Bilaketa Lokala\n",
    "\n",
    "Argi dago, batzuetan <i>Brute-Force</i> algoritmoa eraginkorra dela, baina beste batzuetan ez. Bilaketa lokala algoritmoa inplementatuko da orain. Algoritmo hau diseinatu eta inplementatzerakoan hainbat aukeraketa egin behar ditugu, esaterako, ingurunea edo aukeraketa irizpidea. Jarraian, atalez atal, bilaketa lokaleko algoritmoen elementu desberdinak inplementatuko ditugu.\n",
    "\n",
    "Azken atalean, QAParen <i>tai20a</i> instantzia ebazten saiatuko gara (aurretik lortu ez dena)."
   ]
  },
  {
   "cell_type": "markdown",
   "metadata": {},
   "source": [
    "### Ingurune bat implementatzen\n",
    "\n",
    "Aipatu dugun bezela, QAParen <i>tai20a</i> instantzia ebaztea dugu helburu. Aurreko gaiko ariketetan ikusi dugun bezela, QAParen soluzioak kodetzeko errepresentazio egokiena permutazioak erabiltzea zela aipatu genuen. Atal honetan, $\\sigma=(1,2,3,4,5,\\ldots,20)$ permutazioa emanik, bere ingurunean dauden soluzio guztiak inprimatuko dituen kodea inplementatuko dugu. Klasean <i>swap</i> eta <i>insert</i> inguruneak ikusi ditugu, zein izango da egokiena inplementatzeko? Aukeratu bat eta implementatu."
   ]
  },
  {
   "cell_type": "code",
   "execution_count": 14,
   "metadata": {},
   "outputs": [],
   "source": [
    "size=20\n",
    "solution=list(range(size))\n",
    "num=0\n",
    "\n",
    "## Ingurune-funtzioa\n",
    "def swap_ingurune(solution):\n",
    "    n = len(solution)\n",
    "    for i in range(n):\n",
    "        for j in range(i+1, n):\n",
    "            a = solution.copy()\n",
    "            a[i] = solution[j]\n",
    "            a[j] = solution[i]\n",
    "            yield a\n",
    "\n",
    "# sawp erabili dut ingurunean dauden soluzioak lortzeko. \n",
    "# Modu desberdinetan egin daiteke. Nik kasu hoenetan listako elementu bakoitza gainontzekoekin banaka aldatzea egin dut.\n",
    "# Lehen for-ak indize bat hartzen du eta bigarren for-arekin lista zeharaktzen da aldaketa egiteko indize horrekin.\n",
    "# Bigarren for-an range(0, n) izango bazen, swap batzuk errepikatu egingo ziren. Horregatik range(i+1, n), behin lehen for-an \n",
    "# aztertu direnak ez dira berriro aldatuko\n",
    "\n",
    "# Horretaz gain, generadore bat erabili dut soluzioak banaka emateko (lista batean denak gordetu beharrean). Honela, beheko\n",
    "# algoritmoan funtzio hau for batean erabiliko da eta banaka soluzioak aztertko dira.\n",
    "\n",
    "# Algoritmoaren konplexutasuna O(n^2)\n"
   ]
  },
  {
   "cell_type": "markdown",
   "metadata": {},
   "source": [
    "### Inguruneko soluzioen aukeraketa\n",
    "\n",
    "<i>Best first</i>, <i>Greedy</i> edo <i>Random</i> zein izango da irizpide egokiena? Bakoitzaren ahuleziak aipatu ditugu klasean. Erabaki bat hartzea zaila izaten da. Pista bat duzue: gehienez 1000 funtzio ebaluazio egin ahalko dituzue optimizazioan zehar. Erabili intuizioa eta inplementatu irizpideetako bat. Luzatu aurreko kodea, eta uneko soluzioa, bere ingurunetik aukeratu denarekin ordezkatu."
   ]
  },
  {
   "cell_type": "code",
   "execution_count": 6,
   "metadata": {},
   "outputs": [],
   "source": [
    "import numpy as np\n",
    "\n",
    "# QAParen instantzia diskotik irakurtzeko funtzioa\n",
    "def read_instance_QAP(filepath):\n",
    "    fp=open(filepath)\n",
    "    line=fp.readline()\n",
    "    values=line.split()\n",
    "    size=int(values[0])\n",
    "    D=np.zeros((size,size))\n",
    "    H=np.zeros((size,size))\n",
    "    for i in range(size):\n",
    "        line=fp.readline()\n",
    "        values=line.split()\n",
    "        for j in range(size):\n",
    "            D[i][j]=int(values[j])\n",
    "        \n",
    "    for i in range(size,2*size):\n",
    "        line=fp.readline()\n",
    "        values=line.split()\n",
    "        for j in range(size):\n",
    "            H[i-size][j]=int(values[j])\n",
    "    fp.close()\n",
    "    return (size,D,H)\n",
    "\n",
    "# Soluzio bat emanik, bere helburu-funtzioaren balioa kalkulatuko duen funtzioa.\n",
    "def objective_function_QAP(solution, instance):\n",
    "    size=instance[0]\n",
    "    D=instance[1]\n",
    "    H=instance[2]\n",
    "    value=0\n",
    "    for i in range(size):\n",
    "        for j in range(size):\n",
    "            value = value + (D[i][j]*H[solution[i]][solution[j]])\n",
    "\n",
    "    return value"
   ]
  },
  {
   "cell_type": "code",
   "execution_count": 15,
   "metadata": {},
   "outputs": [
    {
     "name": "stdout",
     "output_type": "stream",
     "text": [
      "Initial solution:  878790.0 [0, 1, 2, 3, 4, 5, 6, 7, 8, 9, 10, 11, 12, 13, 14, 15, 16, 17, 18, 19]\n",
      "Replaced solution:  842504.0 [0, 1, 2, 3, 4, 5, 13, 7, 8, 9, 10, 11, 12, 6, 14, 15, 16, 17, 18, 19]\n"
     ]
    }
   ],
   "source": [
    "#Instantzia kargatu\n",
    "instance=read_instance_QAP(\"tai20a.dat\")\n",
    "size=instance[0]\n",
    "\n",
    "# Sortu lehenengo soluzioa eta kalkulatu bere fitness-a.\n",
    "best_solution=list(range(size))\n",
    "best_fitness=objective_function_QAP(best_solution,instance)\n",
    "print(\"Initial solution: \",best_fitness, best_solution)\n",
    "\n",
    "# Begiratu ingurunea eta ordezkatu soluzioa irizpide bat erabiliz.\n",
    "evals=0\n",
    "for a in swap_ingurune(best_solution):\n",
    "    if evals >= 1000:\n",
    "        break\n",
    "    evals+=1\n",
    "    \n",
    "    fitness = objective_function_QAP(a,instance)\n",
    "    if fitness < best_fitness:\n",
    "        best_fitness = fitness\n",
    "        best_solution = a\n",
    "        #break # Best Fist break hazu jarriz izango zen\n",
    "\n",
    "# Hasierako soluzioa edukita bere inguruneko soluzioak bakarrik aztertu.\n",
    "# Nik egin dudana Greedy da. Jakinda n=20 dela eta ingurune guztiak sortzeko funtzioa-ren konplexutasuna O(n^2) dela,\n",
    "# gehienez 400 iterazio beharko zituen. Maximoa 1000 denez, arazo gabe soluzio hoberena aurkituko du\n",
    "\n",
    "# Greedy erabili da ingurunea behin bakarrik aztertzen delako. Baina, bilaketa lokaleko algoritmoan Best First aukeraketa \n",
    "# irizpidea izango da egokiena. 1000 iterazioko limitea izanik Greedy irizpidearekin soluzioetan gutxiago exploratuko da, \n",
    "# seguruenik amaieran soluzio okerragoa emanez.\n",
    "\n",
    "print(\"Replaced solution: \",best_fitness, best_solution)"
   ]
  },
  {
   "cell_type": "markdown",
   "metadata": {},
   "source": [
    "### Bilaketa lokaleko algoritmoa\n",
    "\n",
    "Dagoeneko bilaketa lokalaren oinarrizko pausua inplementatu dugu, soluzio baten ingurunetik, irizpideren bat erabiliz, soluzio bat aukeratzea. Orain, aurreko pausu hori, behin eta berriz aplikatuko dugu irizpideren bat erabiliz, algoritmoa gelditu arte.\n",
    "\n",
    "Nola geldituko dugu algoritmoa baina? Erantzuna ondorengoa da: <u>gehienez 1000 funtzio ebaluazio egin ahal izango dituzue</u>.\n",
    "\n",
    "Implementatu jarraian adierazten den <i>local_search</i> funtzioa aurretik erabili duzuen kodea berrerabiliz."
   ]
  },
  {
   "cell_type": "code",
   "execution_count": 16,
   "metadata": {},
   "outputs": [
    {
     "name": "stdout",
     "output_type": "stream",
     "text": [
      "Best fitness solution  748156.0 [8, 7, 6, 3, 19, 9, 13, 4, 1, 0, 10, 16, 2, 14, 11, 15, 5, 17, 18, 12]\n",
      "Execution time:  0.1493217945098877\n",
      "Evaluations consumed:  763\n"
     ]
    }
   ],
   "source": [
    "# Instantzia bat emanik bilaketa lokala inplementatzen duen funtzioa. Soluzioa eta bere fitness balioa itzuliko ditu\n",
    "def local_search(instance, max_evals):\n",
    "\n",
    "    size=instance[0]\n",
    "    best_solution=list(range(size)) \n",
    "    best_fitness=objective_function_QAP(best_solution,instance)\n",
    "    hobetu_da=1\n",
    "    evals=1\n",
    "\n",
    "    \n",
    "    while hobetu_da:\n",
    "        hobetu_da = 0 # ingurune berri bat aztertzen denez aldiro, hobetu den edo ez ikusteko \n",
    "        for a in swap_ingurune(best_solution): \n",
    "            if evals >= max_evals: # limitera iristean atera\n",
    "                break\n",
    "            evals += 1\n",
    "            \n",
    "            fitness = objective_function_QAP(a,instance)\n",
    "            if fitness < best_fitness:\n",
    "                best_fitness = fitness\n",
    "                best_solution = a\n",
    "                hobetu_da = 1\n",
    "                break # Best First, inguruneko lehen soluzio hobea dena artu eta hurrengo ingurunera pasa \n",
    "                      # Greedy izateko break hau kentzea izango zen\n",
    "    \n",
    "    return (best_fitness, best_solution,evals)\n",
    "\n",
    "# Algoritmo hau sortzeko ikusitako pseudokodea erabili da. Aukeraketa irizpidea, lehen aipatu dudan bezala, Best First izan da.\n",
    "\n",
    "# Ebaluazio kantitatea 1000 baino gutxiago denez, optimo lokal batera iritsi da (algoritmoa amaituz). Greedy erabiliko bazen\n",
    "# iterazio limitera iritsiko zen, optimo lokal batera iritsi gabe. Amaierako soluzio hori Best First-en lortutakoa baino\n",
    "# okerragoa da, naiz eta iterazio gehiago egin. Arrazoioa explorazio gutxiago egin dela iterazio limite kopuru honetan.\n",
    "# Bestalde, Best First-ek ingurune gehiago aztertu ditu (explorazio handiagoa) eta horregatik soluzio hobe batera iritsi da. \n",
    " \n",
    "    \n",
    "import time as tm\n",
    "\n",
    "#Instantzia kargatu\n",
    "instance=read_instance_QAP(\"tai20a.dat\")\n",
    "\n",
    "# Algoritmoa exekutatu eta kalkulatu konputorako denborak\n",
    "start=tm.time()\n",
    "(fitness,sol,evals)=local_search(instance,1000)\n",
    "end=tm.time()\n",
    "\n",
    "# Inprimatu balioak pantailan.\n",
    "print(\"Best fitness solution \",fitness, sol)\n",
    "print(\"Execution time: \",end-start)\n",
    "print(\"Evaluations consumed: \",evals)"
   ]
  },
  {
   "cell_type": "markdown",
   "metadata": {},
   "source": [
    "Zein izan da lortu duzuen emaitza onena 1000 ebaluaziorekin? Erakutsi irakasleari kodea balidatzeko, eta txapelketarako ranking-a osatzeko."
   ]
  },
  {
   "cell_type": "markdown",
   "metadata": {},
   "source": [
    "### Zer gertazen da ebaluazio kopuru desberdinekin probatuz gero?\n",
    "\n",
    "Jarraian emaitza onena nola aldatzen den ikusiko dugu ebaluazio kopuru desberdinetarako. Ez hori bakarrik, <i>Random Search</i>-arekin konparatuko ditugu emaitzak. Ea nor den onena."
   ]
  },
  {
   "cell_type": "code",
   "execution_count": 29,
   "metadata": {},
   "outputs": [],
   "source": [
    "import random\n",
    "import more_itertools as mit\n",
    "# Instantzia bat eta soluzio kopuru bat emanik ausazko bilaketa inplementatzen duen funtzioa. \n",
    "# Soluzioa eta bere fitness balioa itzuliko ditu\n",
    "def random_search(instance, num_solutions):\n",
    "\n",
    "    n = instance[0] \n",
    "    best_solution = list(range(n))\n",
    "    best_fitness = objective_function_QAP(best_solution,instance)\n",
    "    for _ in range(num_solutions):\n",
    "        solution = mit.random_permutation(range(n)) # soluzio posible bat hartzen du ausaz\n",
    "        value = objective_function_QAP(solution, instance) # soluzio horren fitness kalkulatu\n",
    "        if value < best_fitness: # soluzio posible honen fitness-a hobea bada, aktualizatu \n",
    "            best_fitness = value\n",
    "            best_solution = solution\n",
    "    \n",
    "    return (best_fitness, best_solution)"
   ]
  },
  {
   "cell_type": "code",
   "execution_count": 31,
   "metadata": {},
   "outputs": [
    {
     "name": "stdout",
     "output_type": "stream",
     "text": [
      "        n  Local Search  Random Search\n",
      "0      10      942783.6       949267.8\n",
      "1     100      903478.4       914414.8\n",
      "2    1000      822971.6       901508.6\n",
      "3   10000      822971.6       887516.6\n",
      "4  100000      822971.6       875659.2\n"
     ]
    },
    {
     "data": {
      "image/png": "[encoded data removed]",
      "text/plain": [
       "<Figure size 640x480 with 1 Axes>"
      ]
     },
     "metadata": {},
     "output_type": "display_data"
    }
   ],
   "source": [
    "import matplotlib.pyplot as plt\n",
    "import pandas as pd\n",
    "import numpy as np\n",
    "\n",
    "list_budget = []\n",
    "list_best_ls = []\n",
    "list_best_rs = []\n",
    "repetitions=10\n",
    "\n",
    "#Instantzia kargatu\n",
    "instance=read_instance_QAP(\"tai20a.dat\")\n",
    "\n",
    "# Egin exekuzioak budget desberdinetarako: 10, 100, 1000, 10000...\n",
    "for exp in range(1,6):\n",
    "\n",
    "    budget=10**exp \n",
    "    list_budget.append(budget)\n",
    "    \n",
    "    # Local Search\n",
    "    avg_fit=0\n",
    "    for rep in range(repetitions+1):\n",
    "        (fitness,sol,_)=local_search(instance,budget)\n",
    "        avg_fit+=fitness\n",
    "    avg_fit=avg_fit/repetitions\n",
    "    list_best_ls.append(avg_fit)\n",
    "    \n",
    "    # Random Search\n",
    "    \n",
    "    avg_fit=0\n",
    "    for rep in range(repetitions+1):\n",
    "        (fitness,sol)=random_search(instance,budget)\n",
    "        avg_fit+=fitness\n",
    "    avg_fit=avg_fit/repetitions\n",
    "    list_best_rs.append(avg_fit)\n",
    "    \n",
    "    \n",
    "\n",
    "# Datuak gordetzeko egitura\n",
    "datuak = pd.DataFrame({\"n\":list_budget,\"Local Search\":list_best_ls,\"Random Search\":list_best_rs}) \n",
    "print(datuak)\n",
    "\n",
    "#Irudikatu emaitzak plot batean.\n",
    "ax = plt.gca()\n",
    "datuak.plot(kind='line',x='n',y='Local Search',ax=ax)\n",
    "datuak.plot(kind='line',x='n',y='Random Search', color='red', ax=ax,title='Bilaketa Lokala vs. Random Search')\n",
    "plt.show()"
   ]
  },
  {
   "cell_type": "markdown",
   "metadata": {},
   "source": [
    "#### Zein ondorio ateratzen dituzu irudia ikusi ondoren?"
   ]
  },
  {
   "cell_type": "code",
   "execution_count": null,
   "metadata": {
    "collapsed": true
   },
   "outputs": [],
   "source": [
    "## Erantzun hemen.\n",
    "'''\n",
    "Bilaketa lokalean n > 100 denean, optimo lokal berdinera iristen da aldiro (erabili den hasierako soluzio konkretu honetan), \n",
    "media berdina emanez. Orduan, optimo lokal berdinan geratzen denez ez da iterazio kopuru handiagoaz baliatzen.\n",
    "\n",
    "Bestalde, Random Search-en n haundituz ahala, media hobea ematen du (zentzuzkoa da, aukera gehiago aztertzen ditu eta).\n",
    "Hala ere, lortzen den media bilaketa lokalekoa baina dezentez okerragoa da.\n",
    "\n",
    "Honekin ondorieztatzen da bilaketa lokala ausazkoa baino eraginkorragoa dela kasu gehienetan, naiz eta bilaketa lokalan ia beti\n",
    "optimo lokaletan geratu (hau sahiestu daiteke, baina ez da laborategi honen helburua)\n",
    "'''"
   ]
  },
  {
   "cell_type": "markdown",
   "metadata": {},
   "source": [
    "#### Ariketa honetan, ingurune funtzio konkretu bat erabili duzu, zergaitik uste duzu beste aukera baino hobea dela (adi, erantzuna ez da tribiala!)"
   ]
  },
  {
   "cell_type": "code",
   "execution_count": null,
   "metadata": {},
   "outputs": [],
   "source": [
    "## Erantzun hemen.\n",
    "'''\n",
    "Insert erabilita soluzio baten auzokide kopurua handitu egiten da. Gainera, auzokide hauek sortzeko aldaketa nahiko handia\n",
    "egiten da eta diferentzia nabarmena dago jatorrizkoarekin alderatuta. Bestalde, swap-en aldaketak txikiagoak dira eta auzokideek \n",
    "antza gehiago dute jatorrizkoarekin. \n",
    "\n",
    "Gainera, soluzio gehiago aztertu beharko ziren insert erabilita (auzokide gehiago), eta jakinda iterazio kopurua dagoela,\n",
    "limitera lehenago iritsiko da soluzioetan asko exploratu gabe. \n",
    "\n",
    "'''\n"
   ]
  }
 ],
 "metadata": {
  "kernelspec": {
   "display_name": "Python 3.10.7 64-bit",
   "language": "python",
   "name": "python3"
  },
  "language_info": {
   "codemirror_mode": {
    "name": "ipython",
    "version": 3
   },
   "file_extension": ".py",
   "mimetype": "text/x-python",
   "name": "python",
   "nbconvert_exporter": "python",
   "pygments_lexer": "ipython3",
   "version": "3.10.7"
  },
  "vscode": {
   "interpreter": {
    "hash": "5db3b805f7e7d98597555c684cb99f54c866d096738c03cd24934c145d7d786f"
   }
  }
 },
 "nbformat": 4,
 "nbformat_minor": 2
}
