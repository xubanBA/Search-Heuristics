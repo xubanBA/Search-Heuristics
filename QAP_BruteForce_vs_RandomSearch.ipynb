{
 "cells": [
  {
   "cell_type": "markdown",
   "metadata": {
    "id": "EUQxHpJ0JwKn"
   },
   "source": [
    "# Brute Force vs. Random Search\n",
    "\n",
    "Optimizazio problema baten aurrean gaudenean, eta soluziorik onena aurkitzea denean gure xedea, aukeretako bat, existitzen diren soluzio posible guztiak ebaluatzea da. Estrategia edo algoritmo horri <i> Brute-Force</i> deritzo. Noski, algoritmo hori ez da beti erabilgarria, existitzen diren soluzio guztiak ebaluatzeak kostu altuegia duelako. Beste batzuetan aldiz, posible da.\n",
    "\n",
    "Ariketa honetan, Quadratic Assignment Problem (QAP)-aren  instantzia bat ebaztea izango dugu helburu. Zehazki <i>tai5a</i> instantzia.\n",
    "Labur esanda, QAPan, hainbat mapan $n$ kokapen ditugu, beraien arteko distantziak ezagutzen ditugularik $D=[d_{ij}]_{n\\times n}$, eta $n$ faktoria ditugu kokalekuetara esleitzeko. Kokaleku bakoitzean faktoria bat. Kontuan izan faktorien artean lanak bidaltzen direla, eta batzuk lan fluxu altua dutela, aldiz, beste batzuek ez. Lan fluxua, $H=[h_{ij}]_{n\\times n}$ matrizeko parametroekin determinatzen da.\n",
    "\n",
    "QAPan optimizazio problema, ondorengo helburu-funtzioa minimizatzen duen soluzioa aurkitzean datza: $$f(\\sigma)=\\sum_{i=1}^n\\sum_{j=1}^n d_{ij}h_{\\sigma(i)\\sigma(j)}$$"
   ]
  },
  {
   "cell_type": "markdown",
   "metadata": {
    "id": "LSSqfTrvJwKp"
   },
   "source": [
    "Jarraian QAParen instantzia bat irakurriko duen deia egiten da. Instantzia <i>tai5a.dat</i> fitxategian dago gordeta."
   ]
  },
  {
   "cell_type": "code",
   "execution_count": 14,
   "metadata": {
    "id": "ZvpXLlnSJwKq"
   },
   "outputs": [],
   "source": [
    "import numpy as np\n",
    "\n",
    "# QAParen instantzia diskotik irakurtzeko funtzioa\n",
    "def read_instance_QAP(filepath):\n",
    "    fp=open(filepath)\n",
    "    line=fp.readline()\n",
    "    values=line.split()\n",
    "    size=int(values[0])\n",
    "    D=np.zeros((size,size))\n",
    "    H=np.zeros((size,size))\n",
    "    for i in range(size):\n",
    "        line=fp.readline()\n",
    "        values=line.split()\n",
    "        for j in range(size):\n",
    "            D[i][j]=int(values[j])\n",
    "        \n",
    "    for i in range(size,2*size):\n",
    "        line=fp.readline()\n",
    "        values=line.split()\n",
    "        for j in range(size):\n",
    "            H[i-size][j]=int(values[j])\n",
    "    fp.close()\n",
    "    return (size,D,H)\n",
    "\n",
    "# Soluzio bat emanik, bere helburu-funtzioaren balioa kalkulatuko duen funtzioa.\n",
    "def objective_function_QAP(solution, instance):\n",
    "    size=instance[0]\n",
    "    D=instance[1]\n",
    "    H=instance[2]\n",
    "    value=0\n",
    "    ## kalkulatu soluzio baten helburu funtzioaren balioa goiko ekuazioa ikusirik,\n",
    "    # BETE HEMEN.\n",
    "    value = 0\n",
    "    for i in range(size):\n",
    "        for j in range(size): \n",
    "            value += D[i][j]*H[solution[i]][solution[j]]\n",
    "            \n",
    "    return value"
   ]
  },
  {
   "cell_type": "markdown",
   "metadata": {
    "id": "hqxIbZPIJwKr"
   },
   "source": [
    "Baina, nola kodetuko ditugu soluzioak? Zein da soluzioen bilaketa espazioa? Zenbat soluzio daude bilaketa espazioan? Pentsatu kodeketa bat eta jarraian dagoen eremuan adibide batzuk jarri, eta probatu helburu funtzioa exekutatzen. "
   ]
  },
  {
   "cell_type": "code",
   "execution_count": 15,
   "metadata": {
    "colab": {
     "base_uri": "https://localhost:8080/",
     "height": 356
    },
    "id": "s5ExoeQEJwKr",
    "outputId": "f4f7abd3-7ac9-482c-acff-59b676ee9513"
   },
   "outputs": [
    {
     "name": "stdout",
     "output_type": "stream",
     "text": [
      "Objective value of the solution is  35398.0\n"
     ]
    }
   ],
   "source": [
    "# Lehenengo ataza, erabaki QAPren soluzioak deskribatuko dituen kodeketa egokiena. \n",
    "# Kontuan izan problemaren tamaina kasu honetan n=5 dela.\n",
    "solution=[0, 1, 2, 3, 4] \n",
    "\n",
    "# Irakurri instantzia\n",
    "instance=read_instance_QAP(\"tai5a.dat\")\n",
    "\n",
    "# Ebaluatu goiko soluzioa\n",
    "result=objective_function_QAP(solution, instance)\n",
    "\n",
    "print(\"Objective value of the solution is \",result)"
   ]
  },
  {
   "cell_type": "markdown",
   "metadata": {
    "id": "_qdrFgLLJwKs"
   },
   "source": [
    "Ariketaren hasieran, <i>Brute-Force</i> deitzen den algoritmo baten inguruan hitz egin dugu. Honen asmoa, bilaketa espazioko soluzio guztiak ebaluatu, eta onena aukeratzea da. Jarraian dagoen eremuan, implementatu ezazu algoritmo hori, <i>tai10a.dat</i> instantziaren gainean aplikatzeko. "
   ]
  },
  {
   "cell_type": "code",
   "execution_count": 16,
   "metadata": {
    "id": "bsak5wLTJwKs",
    "outputId": "d21e9784-09e8-4d3f-8b3c-c03cac8cea45"
   },
   "outputs": [
    {
     "name": "stdout",
     "output_type": "stream",
     "text": [
      "Best fitness solution  12902.0 (1, 2, 4, 0, 3)\n",
      "Execution time:  0.0019941329956054688\n"
     ]
    }
   ],
   "source": [
    "import time as tm\n",
    "import itertools as it\n",
    "import math\n",
    "import sys\n",
    "\n",
    "# Brute force algoritmoaren inplementazioa\n",
    "def Brute_Force(instance):\n",
    "   \n",
    "    n = instance[0] # lehen elementuak size adierazten da\n",
    "    best = float('inf') # aldagaiak inizializatu\n",
    "    sol = None \n",
    "    for solution in it.permutations(range(n)): # bilaketa espazioko soluzio guztiak aztertu    \n",
    "        value = objective_function_QAP(solution, instance) # helburu funtzioaren balioa (fitness)\n",
    "        if value < best: # soluzio posible honen fitness-a hobea bada, aktualizatu \n",
    "            best = value\n",
    "            sol = solution\n",
    "        \n",
    "    return (best,sol)\n",
    "\n",
    "instance=read_instance_QAP(\"tai5a.dat\")\n",
    "\n",
    "start=tm.time()\n",
    "(best,sol)=Brute_Force(instance)\n",
    "end=tm.time()\n",
    "\n",
    "print(\"Best fitness solution \",best, sol)\n",
    "print(\"Execution time: \",end-start)"
   ]
  },
  {
   "cell_type": "markdown",
   "metadata": {
    "id": "Wnral0LJJwKt"
   },
   "source": [
    "Dirudi, algoritmoa efizientea dela. Probatu ondorengo eremuan <i>tai10a.dat</i> eta <i>tai20a.dat</i> instantziak optimizatzen."
   ]
  },
  {
   "cell_type": "code",
   "execution_count": 4,
   "metadata": {
    "id": "VpHCXamzJwKt",
    "outputId": "6a1f5ee6-a032-454a-ff05-519602e8af40"
   },
   "outputs": [
    {
     "name": "stdout",
     "output_type": "stream",
     "text": [
      "Best fitness solution  135028.0 (8, 0, 7, 5, 9, 4, 3, 2, 6, 1)\n",
      "Execution time:  208.73378252983093\n"
     ]
    }
   ],
   "source": [
    "# tai10a instantziarako exekutatu Brute-Force algoritmoa\n",
    "instance=read_instance_QAP(\"tai10a.dat\")\n",
    "\n",
    "start=tm.time()\n",
    "(best,sol)=Brute_Force(instance)\n",
    "end=tm.time()\n",
    "\n",
    "print(\"Best fitness solution \",best, sol)\n",
    "print(\"Execution time: \",end-start)"
   ]
  },
  {
   "cell_type": "code",
   "execution_count": null,
   "metadata": {
    "collapsed": true,
    "id": "Uoe1rdIDJwKu"
   },
   "outputs": [],
   "source": [
    "# Denbora asko irauten du.\n",
    "# tai20a instantziarako exekutatu Brute-Force algoritmoa\n",
    "instance=read_instance_QAP(\"tai20a.dat\")\n",
    "\n",
    "start=tm.time()\n",
    "(best,sol)=Brute_Force(instance)\n",
    "end=tm.time()\n",
    "\n",
    "print(\"Best fitness solution \",best, sol)\n",
    "print(\"Execution time: \",end-start)"
   ]
  },
  {
   "cell_type": "markdown",
   "metadata": {
    "id": "IaxxtD2rJwKu"
   },
   "source": [
    "### Random Search algoritmoa\n",
    "\n",
    "Argi dago, batzuetan <i>Brute-Force</i> algoritmoa eraginkorra dela, baina beste batzuetan ez. 2. gaiko algoritmoetara pasa aurretik, badago algoritmo bat <i>base-line</i> bezela erabiltzen dena algoritmoen garapenean. Hori Random Search algoritmoa da. Honek, soluzioak ausaz sortzen ditu, eta sortutakoen artetik, onena itzultzen du. Aurreko algoritmoetan ez bezala, ausaz sortu beharreko soluzio kopurua ezarri behar zaio.\n"
   ]
  },
  {
   "cell_type": "code",
   "execution_count": 17,
   "metadata": {
    "colab": {
     "base_uri": "https://localhost:8080/",
     "height": 356
    },
    "id": "3-5HPzu6JwKu",
    "outputId": "fb25a4a0-4ac4-4429-8b9a-63a41f7ba9f7"
   },
   "outputs": [
    {
     "name": "stdout",
     "output_type": "stream",
     "text": [
      "Best fitness solution  827422.0 (3, 19, 5, 4, 17, 10, 18, 16, 2, 12, 0, 13, 8, 7, 1, 11, 9, 6, 15, 14)\n",
      "Execution time:  0.03196144104003906\n"
     ]
    }
   ],
   "source": [
    "import random\n",
    "import more_itertools as mit\n",
    "\n",
    "# Instantzia bat eta soluzio kopuru bat emanik ausazko bilaketa inplementatzen duen funtzioa. \n",
    "# Soluzioa eta bere fitness balioa itzuliko ditu\n",
    "def random_search(instance, num_solutions):\n",
    "\n",
    "    n = instance[0] # lehen elementuak size adierazten da\n",
    "    best_fitness = float('inf') # aldagaiak inizializatu\n",
    "    best_solution = None\n",
    "    for _ in range(num_solutions):\n",
    "        solution = mit.random_permutation(range(n)) # soluzio posible bat hartzen du ausaz\n",
    "        value = objective_function_QAP(solution, instance) # soluzio horren fitness kalkulatu\n",
    "        if value < best_fitness: # soluzio posible honen fitness-a hobea bada, aktualizatu \n",
    "            best_fitness = value\n",
    "            best_solution = solution\n",
    "\n",
    "    return (best_fitness, best_solution)\n",
    "\n",
    "\n",
    "#Instantzia kargatu\n",
    "instance=read_instance_QAP(\"tai20a.dat\")\n",
    "\n",
    "# Algoritmoa exekutatu eta kalkulatu konputorako denborak\n",
    "start=tm.time()\n",
    "(fitness,sol)=random_search(instance,100)\n",
    "end=tm.time()\n",
    "\n",
    "# Inprimatu balioak pantailan.\n",
    "print(\"Best fitness solution \",fitness, sol)\n",
    "print(\"Execution time: \",end-start)"
   ]
  },
  {
   "cell_type": "markdown",
   "metadata": {
    "id": "tRT_FtkaJwKu"
   },
   "source": [
    "Argi dago zenbat eta ausazko soluzio gehiago sortu, orduan eta emaitza hobeagoak lortzeko aukera dagoela. Exekutatu ondorengo kodea eta kalkulatzen den grafikotik, atera ondorioak."
   ]
  },
  {
   "cell_type": "code",
   "execution_count": 6,
   "metadata": {
    "id": "FXYFjk-GJwKv"
   },
   "outputs": [
    {
     "name": "stdout",
     "output_type": "stream",
     "text": [
      "Budget:  10  Average fitness:  944478.6\n",
      "Budget:  100  Average fitness:  925739.6\n",
      "Budget:  1000  Average fitness:  901782.6\n",
      "Budget:  10000  Average fitness:  886491.6\n",
      "Budget:  100000  Average fitness:  871664.0\n",
      "        n   Fitness\n",
      "0      10  944478.6\n",
      "1     100  925739.6\n",
      "2    1000  901782.6\n",
      "3   10000  886491.6\n",
      "4  100000  871664.0\n"
     ]
    },
    {
     "data": {
      "image/png": "[encoded data removed]",
      "text/plain": [
       "<Figure size 432x288 with 1 Axes>"
      ]
     },
     "metadata": {
      "needs_background": "light"
     },
     "output_type": "display_data"
    }
   ],
   "source": [
    "import matplotlib.pyplot as plt\n",
    "import pandas as pd\n",
    "\n",
    "list_budget = []\n",
    "list_best = []\n",
    "repetitions=10\n",
    "\n",
    "# Egin exekuzioak budget desberdinetarako: 10, 100, 1000, 10000...\n",
    "for exp in range(1,6):\n",
    "    budget=10**exp\n",
    "    avg_fit=0\n",
    "    for rep in range(repetitions+1):\n",
    "        (fitness,sol)=random_search(instance,budget)\n",
    "        avg_fit+=fitness\n",
    "    avg_fit=avg_fit/repetitions\n",
    "    print(\"Budget: \",budget,\" Average fitness: \",avg_fit)\n",
    "    list_budget.append(budget)\n",
    "    list_best.append(avg_fit)\n",
    "\n",
    "# Datuak gordetzeko egitura\n",
    "datuak = pd.DataFrame({\"n\":list_budget,\"Fitness\":list_best}) \n",
    "print(datuak)\n",
    "\n",
    "#Irudikatu emaitzak plot batean.\n",
    "ax = plt.gca()\n",
    "datuak.plot(kind='line',x='n',y='Fitness', color='blue', ax=ax,title='Random-Search-aren emaitzak')\n",
    "\n",
    "plt.show()"
   ]
  },
  {
   "cell_type": "code",
   "execution_count": null,
   "metadata": {
    "collapsed": true,
    "id": "8iLvpnX-JwKv"
   },
   "outputs": [],
   "source": [
    "'''\n",
    "Grafikan ikusi daiteken bezala, ausaz geroz eta soluzio kopuru handiagoa aztertuz, soluzio hobe batera iritsiko da.\n",
    "Hala ere, n exponentzialki handitzen doa, baina fitness-hoberena ez da hainbeste hobetzen. Honek esan nahi du lortutako\n",
    "soluziok nahiko onak direla (hala ere, oso zaila optimoa izatea). \n",
    "\n",
    "Random Search aurreko Brute Forcerekin alderatuta diferentzia handia dagoela ikusisten da. Egia da bilaketa espazioa txikia \n",
    "denean Brute Forcer-k soluzio hoberena lortzen duela. Baina, errealitateko problema batean bilaketa espazio gutxitan \n",
    "izango da txikia. Brute Forcen 'tai20a.dat' problemak orduak eta orduak emango zituen amaitzeko (ez dut itxoin),\n",
    "baina Random Search-ek azkar amaitu du soluzio nahiko on bat emanez.\n",
    "\n",
    "Beraz, lortutako ondorioa hurrengoa da:\n",
    "    - Brute Force ez da bideragarria bilaketa espazioa handia denean. \n",
    "    - Random Search-ek emaitza onak eman ditzazke eta erabilgarria izan daiteke. Hala ere, ez da gomendagarria beti hau \n",
    "      erabiltzea, soluzio hobeak ematen dituzten algoritmoak egongo dira seguruen (beti ere problemaren arabera).\n",
    "'''"
   ]
  }
 ],
 "metadata": {
  "colab": {
   "collapsed_sections": [],
   "provenance": []
  },
  "kernelspec": {
   "display_name": "Python 3.10.7 64-bit",
   "language": "python",
   "name": "python3"
  },
  "language_info": {
   "codemirror_mode": {
    "name": "ipython",
    "version": 3
   },
   "file_extension": ".py",
   "mimetype": "text/x-python",
   "name": "python",
   "nbconvert_exporter": "python",
   "pygments_lexer": "ipython3",
   "version": "3.10.7"
  },
  "vscode": {
   "interpreter": {
    "hash": "5db3b805f7e7d98597555c684cb99f54c866d096738c03cd24934c145d7d786f"
   }
  }
 },
 "nbformat": 4,
 "nbformat_minor": 1
}
