{
 "cells": [
  {
   "cell_type": "markdown",
   "metadata": {},
   "source": [
    "# Bilaketa Lokalaren hedapenak\n",
    "\n",
    "Bilaketa lokala, algoritmo eraginkorra den arren, sarritan motz geratzen da, eta estrategia gehigarriak inplementatzea interesgarria izaten da soluzio hobeagoak lortzeko. Dagoeneko ikusi dugu, bilaketa lokala exekutatzen dugunean, ebaluazio kopuru nahiko baldin badugu, momenturen batean, algoritmoa <b>optimo lokal</b> batean geldituko dela harrapatuta, eta posible da soluzio hori ez izatea <b>optimo globala</b>.\n",
    "\n",
    "Aukera desberdinen artean <i>Variable Neighborhood Descent (VND)</i> algoritmoak ikusi ditugu. Notebook honetan, algoritmo hori inplementatuko dugu <i>0-1 balanced Graph Partitioning Problem (GPP)</i> ebazteko. Problema honetan, $n$ nodoko grafo bat ematen zaigu, eta nodoen arteko arkuen pisuak zehazten dituen $W=[w_{ij}]_{n\\times n}$ matrizea. Helburua multzoen artean geratzen diren arkuen pisuen batura minimizatzea da. Zehazki, helburu-funtzioa $$f(x)=\\sum_{i=1}^n\\sum_{j=1}^n x_i\\cdot (1-x_j)w_{ij}$$ ekuazioaren bitartez formalizatzen da.\n",
    "\n",
    "eGelan, instantzien direktorioan <i>G124.16</i> instantzia utzi dizuet optimizatzeko. \n",
    "\n",
    "<b>Abisua</b>: orain arte ebatzi ditugun problemetan, soluzioak errepresentatzeko erabilitako kodeketak soluzio bideragarriak sortzen zituen. Adi orain!"
   ]
  },
  {
   "cell_type": "markdown",
   "metadata": {},
   "source": [
    "## 0-1 Balanced Graph Partitioning Problem (GPP)\n",
    "\n",
    "Jarraian GPParen instantzia bat irakurriko duen deia egiten da. Instantzia <i>G124.16</i> fitxategian dago gordeta.\n"
   ]
  },
  {
   "cell_type": "code",
   "execution_count": 81,
   "metadata": {},
   "outputs": [],
   "source": [
    "import numpy as np\n",
    "\n",
    "# GPParen instantzia diskotik irakurtzeko funtzioa\n",
    "def read_instance_GPP(filepath):\n",
    "    fp=open(filepath)\n",
    "    line=fp.readline()\n",
    "    values=line.split()\n",
    "    size=int(values[0])\n",
    "    W=np.zeros((size,size))\n",
    "    for i in range(size):\n",
    "        line=fp.readline()\n",
    "        values=line.split()\n",
    "        for j in range(len(values)):\n",
    "            W[i][int(values[j])-1]=1\n",
    "    fp.close()\n",
    "    return (size,W)\n",
    "\n",
    "instance=read_instance_GPP(\"Grid8x8\")"
   ]
  },
  {
   "cell_type": "markdown",
   "metadata": {},
   "source": [
    "Asmatu GPParen soluzioak errepresentatzeko modu bat. Jarraian, eman adibide bat."
   ]
  },
  {
   "cell_type": "code",
   "execution_count": 82,
   "metadata": {},
   "outputs": [
    {
     "name": "stdout",
     "output_type": "stream",
     "text": [
      "[1 0 0 1 0 0 1 1]\n"
     ]
    }
   ],
   "source": [
    "import numpy as np\n",
    "import random as rm\n",
    "\n",
    "# Kodeketa bat pentsatu eta gero, proposatu errepresentazio hori duten soluziak sortzeko modu bat.\n",
    "# Inplementatu horretarako funtzio bat.\n",
    "def errepresentazioa(size):\n",
    "    solution = np.zeros(size, dtype=int)\n",
    "    perm = np.random.permutation(size)[:size//2] # lista batean permutazio bat ausaz sortu eta lista erdia hartu\n",
    "    solution[perm] = 1 # sortutako indizeetan 1 jarri, honela soluzio orekatua sortzen da eta beti soluzio desberdin bat ausaz\n",
    "    return solution\n",
    "\n",
    "# Sortu ausazko soluzio bat\n",
    "solution = errepresentazioa(8)\n",
    "print(solution)"
   ]
  },
  {
   "cell_type": "markdown",
   "metadata": {},
   "source": [
    "Jarraian, inplementatu soluzio bat eta GPParen instantzia bat emanik, soluzioaren helburu-balioa kalkulatu duen funtzioa."
   ]
  },
  {
   "cell_type": "code",
   "execution_count": 83,
   "metadata": {},
   "outputs": [
    {
     "name": "stdout",
     "output_type": "stream",
     "text": [
      "Soluzioaren helburu-balioa:  48.0\n"
     ]
    }
   ],
   "source": [
    "# Soluzio bat emanik, bere helburu-funtzioaren balioa kalkulatuko duen funtzioa.\n",
    "def objective_function_GPP(solution, instance):\n",
    "    size=instance[0]\n",
    "    W=instance[1]\n",
    "    value=0\n",
    "    for i in range(size):\n",
    "        for j in range(size):\n",
    "            value += solution[i]*(1-solution[j])*W[i,j] \n",
    "   \n",
    "    return value\n",
    "\n",
    "instance=read_instance_GPP(\"Grid8x8\")\n",
    "# Sortu soluzio bat. \n",
    "# BETE HEMEN (lerro 1)\n",
    "solution = errepresentazioa(instance[0]) # instance[0]-rekin soluzioaren tamaina\n",
    "\n",
    "print(\"Soluzioaren helburu-balioa: \",objective_function_GPP(solution,instance))"
   ]
  },
  {
   "cell_type": "markdown",
   "metadata": {},
   "source": [
    "## Variable Neighborhood Search (VND)\n",
    "\n",
    "Esan bezala VND algoritmoa erabiliko dugu GPPa ebazteko. Gogoratuko duzuen bezela, VND-ak, bilaketa lokalak ez bezala, hainbat ingurune funtzio kontsideratzen ditu. Kasu honetan, bi kontsideratuko ditugu. Bata nagusia izango da, eta bestea bigarrengoa. Algoritmoak bilaketa ingurune nagusian egingo du, eta optimo lokal batean harrapatuta geratzen den bakoitzean, bigarrengo ingurunera salto egingo du mugimendu bakarra egiteko. Bigarrengo ingurunean, hobekuntza bat egiten badu, ingurune nagusira bueltatuko da optimizatzen jarraitzeko. Aldiz, bigarrengo ingurunean ere ez badago bizilagun hoberik, orduan, uneko soluzioa bi inguruneentzako optimo lokala dela esan dezakegu, eta algoritmoa gelditu egingo da soluzioa itzuliz.\n",
    "\n",
    "Bi ingurune funtzio proposatzen dizkizuet: <i> Hamming </i> eta <i> Insert </i> inguruneak. Baina bietako zein izango da nagusia eta zein bigarrengoa? Kasu honetan, irizpide ugari erabiltzen dira, baina ohikoena optimo lokal kopurua estimatuz jakingo dugu. Optimo lokal gutxien sortzen dituen ingurunea, ingurune nagusia izango da."
   ]
  },
  {
   "cell_type": "markdown",
   "metadata": {},
   "source": [
    "### Optimo lokalak estimatzen\n",
    "\n",
    "Optimo lokalak estimatzeko modu sinple bat ondorengoa da. Hartu $k$ ausazko soluzio eta exekutatu bilaketa lokala optimo lokal batera iritsi arte. Aurrekoa eginez gero, $k$ optimo lokal izango ditugu. Orain, optimo lokal desberdinen portzentaia kalkulatuko dugu.\n",
    "\n",
    "Intuizioak dio, optimo lokal gutxiko <i>landscape</i> batean, optimo lokal berdinera iristeko probabilitateak baxuagoak izango direla, eta beraz  hori ona da. Aldiz, exekuzio bakoitzean, optimo lokal desberdin batera iristen bagara, orduan <i>landscape</i>-a oso zimurra dela ondorioztatuko dugu. Zenbat eta <i>landscape</i> leunagoa, orduan eta hobeto.\n",
    "\n",
    "Azpian inplementatu, ingurune bakoitzerako bilaketa lokaleko algoritmoak. Suposatu ez dagoela mugarik helburu-funtzio ebaluazioetan."
   ]
  },
  {
   "cell_type": "code",
   "execution_count": 84,
   "metadata": {},
   "outputs": [],
   "source": [
    "# Hamming normala eginda oreka galdu egin daiteke (1 eta 0 kantitate desberdina). Orduan, posible da amaierako soluzioa\n",
    "# dena 0-z betea egotea. Kasu honetan fitness-a 0 izango zen, eta minimizazio problema bat izanik, soluzio hoberena.\n",
    "# Baina, argi dago hau ez dela zuzena (0-en partizio bakarra egongo da), eta beraz, sahiestu egin beharra da oreka galtzea.\n",
    "\n",
    "# Modu desberdinetan lortu daiteke oreka hau. Adibidez,\n",
    "#  - Filtro bat erabili soluzioak sortzerakoan (adibidez %40-%60 arteko oreka lortzea). Funtzio bat erabiliz erraz egin daiteke.\n",
    "#  - Swap erabili. Honela, ez dira 1 eta 0 kantitatea aldatzen. Nik hau implementatu dut ondorengo funtzioan: \n",
    "def ingurune_hamming_swap(sol):\n",
    "    n = len(sol)\n",
    "    for i in range(n):\n",
    "        for j in range(i, n):\n",
    "            if sol[i] != sol[j]: # xor(i,j). Balio berdina dutenak ez aldatu, emaitza berdina lortzen da eta.\n",
    "                berria = sol.copy()\n",
    "                berria[i] = sol[j]\n",
    "                berria[j] = sol[i]\n",
    "                \n",
    "                yield berria\n",
    "\n",
    "def local_search_hamming (instance, max_evals, sol):\n",
    "    # Hasierak soluzio bat emanda hill climbing algoritmoa hamming ingurune funtzioarekin (swap kasu honetan). \n",
    "    # Aurreko laborategiko berdina.\n",
    "    \n",
    "    best_solution = sol\n",
    "    best_fitness = objective_function_GPP(best_solution, instance)\n",
    "    \n",
    "    evals = 0\n",
    "    hobetu_da = True\n",
    "    while hobetu_da:\n",
    "        hobetu_da = False\n",
    "        for a in ingurune_hamming_swap(best_solution):\n",
    "            if evals > max_evals:\n",
    "                break\n",
    "            evals += 1\n",
    "            \n",
    "            fitness = objective_function_GPP(a, instance)\n",
    "            if fitness < best_fitness:\n",
    "                besy_solution = a\n",
    "                best_fitness = fitness\n",
    "                hobetu_da = True \n",
    "\n",
    "    return (best_fitness, best_solution,max_evals)"
   ]
  },
  {
   "cell_type": "code",
   "execution_count": 129,
   "metadata": {},
   "outputs": [],
   "source": [
    "\n",
    "# Insert ingurune fintzioarekin ere soluzio orekatuak sortuko dira. \n",
    "def ingurune_insert(sol):\n",
    "    n = len(sol)\n",
    "    for i in range(n):\n",
    "        for j in range(i+1, n): # aurrerantz insertatzen da\n",
    "            berria = np.zeros(n)\n",
    "            berria[:i] = sol[:i]  # ezkerreko zatia berdin geratzen da\n",
    "            berria[i:j] = sol[i+1:j+1] \n",
    "            berria[j] = sol[i] # insertatu i-ko baioa berria j posizioan\n",
    "            berria[j+1:] = sol[j+1:] # indizetik pasatzen bada ez du errorea emango (j=n den kasuan)\n",
    "            \n",
    "            yield berria  \n",
    "\n",
    "\n",
    "def local_search_insert (instance,max_evals, sol):\n",
    "    # Aurrekoaren berdina, baina insert funtzioa erabiliz.\n",
    "    \n",
    "    best_solution = sol\n",
    "    best_fitness = objective_function_GPP(best_solution, instance)\n",
    "    \n",
    "    hobetu_da = True\n",
    "    evals = 0\n",
    "    while hobetu_da:\n",
    "        hobetu_da = False\n",
    "        for a in ingurune_insert(best_solution):\n",
    "            if evals > max_evals: # suposatu ez dagoela limitea, baina badaezpada jartzen dut\n",
    "                break\n",
    "            evals += 1\n",
    "            \n",
    "            fitness = objective_function_GPP(a, instance)\n",
    "            if fitness < best_fitness:\n",
    "                best_solution = a\n",
    "                best_fitness = fitness\n",
    "                hobetu_da = True\n",
    "         \n",
    "    return (best_fitness, best_solution,max_evals)          "
   ]
  },
  {
   "cell_type": "code",
   "execution_count": 130,
   "metadata": {},
   "outputs": [
    {
     "name": "stdout",
     "output_type": "stream",
     "text": [
      "Hasierako sol:  [0 1 0 1]\n",
      "Hamming/Swap:\n",
      "[1 0 0 1]\n",
      "[1 1 0 0]\n",
      "[0 0 1 1]\n",
      "[0 1 1 0]\n",
      "Insert:\n",
      "[1. 0. 0. 1.]\n",
      "[1. 0. 0. 1.]\n",
      "[1. 0. 1. 0.]\n",
      "[0. 0. 1. 1.]\n",
      "[0. 0. 1. 1.]\n",
      "[0. 1. 1. 0.]\n"
     ]
    }
   ],
   "source": [
    "# Ingurune funtzioak probatzeko\n",
    "sol = errepresentazioa(4)\n",
    "print(\"Hasierako sol: \", sol)\n",
    "\n",
    "print(\"Hamming/Swap:\")\n",
    "for a in ingurune_hamming_swap(sol):\n",
    "    print(a)\n",
    "\n",
    "print(\"Insert:\")\n",
    "for a in ingurune_insert(sol): \n",
    "    print(a)\n",
    "    \n",
    "# Ikusi daiteke insert funtziok soluzio errepikatuak eman ditzazkela. Hau sahiestu daiteke kandidatu bat behin bakarrik \n",
    "# sortzek. Honek exekuzioa azkartu dezake. Baina, aldi berean, hau implementatzea bere kostua du. Ez dit denbora eman\n",
    "# probatzeko, beraz dagoen bezela utzi dut."
   ]
  },
  {
   "cell_type": "code",
   "execution_count": 131,
   "metadata": {},
   "outputs": [
    {
     "name": "stdout",
     "output_type": "stream",
     "text": [
      "Hamming LO: [43.0, 44.0, 52.0, 57.0, 39.0, 53.0, 55.0, 49.0, 47.0, 48.0, 49.0, 48.0, 49.0, 53.0, 56.0, 46.0, 48.0, 48.0, 37.0, 51.0]\n",
      "Insert LO: [23.0, 22.0, 34.0, 37.0, 24.0, 37.0, 28.0, 25.0, 29.0, 28.0, 24.0, 35.0, 32.0, 33.0, 30.0, 22.0, 30.0, 30.0, 24.0, 29.0]\n",
      "Ratop of different local optima under Hamming:  0.7\n",
      "Ratio of different local optima under Insert:  0.6\n"
     ]
    }
   ],
   "source": [
    "import numpy as np\n",
    "\n",
    "# Kalkulatu optimo lokal kopurua bilaketa espazioan. Horretarako instantzia txiki bat\n",
    "# erabiliko dugu \"Grid8x8\" deiturikoa\n",
    "k=20\n",
    "instance=read_instance_GPP(\"Grid8x8\")\n",
    "max_evals=10000000\n",
    "list_fitness_hamming=[]\n",
    "list_fitness_insert=[]\n",
    "for i in range(k):\n",
    "    np.random.seed(i) # hasieran k zegoen i beharrean, eta orduan beti soluzio iguala erabiltzen zen \n",
    "                      # (eta honela beti lokal berdinean amaitzen zuen). Behin aldatuta ongi egiten du.\n",
    "        \n",
    "    sol = errepresentazioa(instance[0])  # hasierako soluzioa sortu, iterazio berri bakotzean desberdin bat sortuko da\n",
    "    \n",
    "    ls_hamming_result=local_search_hamming(instance,max_evals, sol)\n",
    "    ls_insert_result=local_search_insert(instance,max_evals, sol)\n",
    "    list_fitness_hamming.append(ls_hamming_result[0])\n",
    "    list_fitness_insert.append(ls_insert_result[0])\n",
    "\n",
    "print(\"Hamming LO:\",list_fitness_hamming)\n",
    "print(\"Insert LO:\",list_fitness_insert)\n",
    "print(\"Ratop of different local optima under Hamming: \",len(np.unique(list_fitness_hamming))/k)\n",
    "print(\"Ratio of different local optima under Insert: \",len(np.unique(list_fitness_insert))/k)"
   ]
  },
  {
   "cell_type": "markdown",
   "metadata": {},
   "source": [
    "Portzentaiak ikusirik, zein esango zenuke dela ingurune nagusia, eta zein bigarrena?"
   ]
  },
  {
   "cell_type": "code",
   "execution_count": null,
   "metadata": {},
   "outputs": [],
   "source": [
    "'''\n",
    "Ingurune nagusia aukeratzeko optimo lokal gutxien dituen ingurunea hartu behar da (ingurune horretan ebaluatuko da gehien,\n",
    "beraz hobe optimo lokaletan ahalik eta gutxien geratzea). Beraz, ratio txikiena duen ingurunea aukeratu behar da.\n",
    "\n",
    "Kasu honetan, Insert ingurune funtzioak ratio txikiagoa ematen du (diferentzia ez da oso handia). Horretaz gain, \n",
    "proba bakoitzean hasierako soluzio berdina erabili dute bi algorimoek, eta denatan insert-ek fitness hobea eman du.\n",
    "Beraz, insert ingurune nagusia bezela aukeratuko dut, eta hamming/swap bigarren.\n",
    "'''"
   ]
  },
  {
   "cell_type": "markdown",
   "metadata": {},
   "source": [
    "### VND algoritmoa estimatzen\n",
    "\n",
    "Behin aukeratuta zein izango diren erabiliko ditugun bi inguruneak, inplementatu VND algoritmoa ematen den funtzioaren definizioa erabiliz."
   ]
  },
  {
   "cell_type": "code",
   "execution_count": 141,
   "metadata": {},
   "outputs": [
    {
     "name": "stdout",
     "output_type": "stream",
     "text": [
      "Best fitness solution  586.0 [1. 1. 0. 0. 0. 0. 1. 0. 1. 1. 0. 1. 0. 1. 1. 0. 0. 0. 1. 0. 0. 1. 0. 0.\n",
      " 0. 0. 0. 0. 0. 0. 0. 1. 1. 1. 0. 0. 0. 0. 1. 0. 0. 1. 1. 1. 1. 1. 1. 1.\n",
      " 0. 1. 0. 0. 1. 1. 1. 1. 0. 1. 1. 1. 0. 0. 1. 0. 0. 1. 1. 1. 1. 1. 1. 1.\n",
      " 0. 0. 0. 0. 0. 0. 0. 0. 0. 1. 1. 1. 1. 0. 1. 1. 1. 1. 1. 1. 1. 1. 0. 1.\n",
      " 1. 0. 0. 1. 0. 1. 0. 0. 1. 1. 0. 0. 1. 1. 1. 0. 0. 1. 0. 0. 0. 1. 0. 0.\n",
      " 0. 0. 1. 1.]\n",
      "Execution time:  81.32698607444763\n",
      "Evaluations consumed:  10000\n"
     ]
    }
   ],
   "source": [
    "def VND_for_GPP(instance, max_evals):\n",
    "    \n",
    "    best_solution = errepresentazioa(instance[0])  # hasierako soluzioa\n",
    "    best_fitness = objective_function_GPP(best_solution, instance)\n",
    "    \n",
    "    maxIter = False # ebaluazio limitera iristen denean exekuzioa amaitzeko\n",
    "    evals = 0\n",
    "    i = 1 # ingurune nagusiarekin hasi\n",
    "    while i <= 2: # 2 ingurune funtzio\n",
    "        if i == 1: \n",
    "            auzokideak = ingurune_insert(best_solution) # ingurune nagusia\n",
    "        else: \n",
    "            auzokideak = ingurune_hamming_swap(best_solution) # bigarren ingurunea\n",
    "           \n",
    "        hoberena_ingurune = best_fitness # inguruneko soluzio hoberena lortu\n",
    "        for a in auzokideak:\n",
    "            if evals >= max_evals:\n",
    "                maxIter = True\n",
    "                break\n",
    "            evals += 1 # helburu funtzioa deitzean ebaluazioa +1\n",
    "            \n",
    "            fitness = objective_function_GPP(a, instance)\n",
    "            if (fitness < hoberena_ingurune):\n",
    "                sol = a\n",
    "                hoberena_ingurune = fitness\n",
    "                \n",
    "        if maxIter:\n",
    "            break\n",
    "                \n",
    "        if (hoberena_ingurune < best_fitness): # hobetu bada ingurune nagusiarekin jarraitu\n",
    "            best_solution = sol\n",
    "            best_fitness = hoberena_ingurune\n",
    "            i = 1   \n",
    "        else:\n",
    "            i = i + 1 # ez bada hobetu, hurrengo ingurunera pasa\n",
    "\n",
    "    return (best_fitness, best_solution, evals)\n",
    "\n",
    "import time as tm\n",
    "\n",
    "#Instantzia kargatu\n",
    "instance=read_instance_GPP(\"G124.16\")\n",
    "\n",
    "# Algoritmoa exekutatu eta kalkulatu konputorako denborak\n",
    "start=tm.time()\n",
    "max_evals=10000\n",
    "(fitness,sol,remaining)=VND_for_GPP(instance, max_evals)\n",
    "end=tm.time()\n",
    "\n",
    "# Inprimatu balioak pantailan.\n",
    "print(\"Best fitness solution \",fitness, sol)\n",
    "print(\"Execution time: \",end-start)\n",
    "print(\"Evaluations consumed: \",remaining)"
   ]
  },
  {
   "cell_type": "code",
   "execution_count": 143,
   "metadata": {},
   "outputs": [
    {
     "name": "stdout",
     "output_type": "stream",
     "text": [
      "        n    VND\n",
      "0      10  640.7\n",
      "1     100  640.7\n",
      "2    1000  640.7\n",
      "3   10000  605.0\n",
      "4  100000  527.0\n"
     ]
    },
    {
     "data": {
      "image/png": "[encoded data removed]",
      "text/plain": [
       "<Figure size 640x480 with 1 Axes>"
      ]
     },
     "metadata": {},
     "output_type": "display_data"
    }
   ],
   "source": [
    "# VND-a ebaluazio kopuru desberdinetarako exekutatuko dugu.\n",
    "# Eta grafikoa aztertuko dugu.\n",
    "\n",
    "import matplotlib.pyplot as plt\n",
    "import pandas as pd\n",
    "import numpy as np\n",
    "\n",
    "list_budget = []\n",
    "list_best = []\n",
    "repetitions=10\n",
    "\n",
    "#Instantzia kargatu\n",
    "instance=read_instance_GPP(\"G124.16\")\n",
    "\n",
    "# Egin exekuzioak budget desberdinetarako: 10, 100, 1000, 10000...\n",
    "for exp in range(1,6):\n",
    "    budget=10**exp\n",
    "    avg_fit=0\n",
    "    for rep in range(repetitions):\n",
    "        np.random.seed(rep)\n",
    "        (fitness,sol,evals)=VND_for_GPP(instance,budget)\n",
    "        avg_fit+=fitness\n",
    "    avg_fit=avg_fit/repetitions\n",
    "    list_budget.append(budget)\n",
    "    list_best.append(avg_fit)\n",
    "\n",
    "# Datuak gordetzeko egitura\n",
    "datuak = pd.DataFrame({\"n\":list_budget,\"VND\":list_best}) \n",
    "print(datuak)\n",
    "\n",
    "#Irudikatu emaitzak plot batean.\n",
    "ax = plt.gca()\n",
    "datuak.plot(kind='line',x='n',y='VND', color='red', ax=ax,title='VND')\n",
    "plt.show()"
   ]
  },
  {
   "cell_type": "code",
   "execution_count": null,
   "metadata": {},
   "outputs": [],
   "source": [
    "'''\n",
    "Ikusi daiteke VND algoritmoa iterazio asko erabiltzeaz baliatzen dela (baina, aldi berean, denbora asko kostako zaio).\n",
    "Baina, aipatzekoa da ingurune bakarra erabili dela denbora gehiengoan. Hau da, probak egiterakoan fijatu naiz ea zenbatero\n",
    "ingurune nagusia optimo lokal batera iristen den eta ondoren bigarren ingurunea erabiltzen hasi den. Baina hau ez da gertatu \n",
    "n > 10000 ebaluazioetara iritsi arte. Honek esan nahi du erabili den problemak optimo lokal lokal gutxi dituela eta iterazio\n",
    "asko behar izan didela optimo lokal horietako batera iristeko. Beraz, VND-ak ematen duen abantaila ez da baliatu amaierara arte.\n",
    "\n",
    "Bestalde, n < 1000 ebaluazio gutxiegi dira problema handi honentzako, beraz, ingurune gutxi aztertzen dira eta soluzio\n",
    "txar bat lortzen da optimo lokal batera iritsi gabe.\n",
    "\n",
    "Ingurune nagusia aukeratzeko optimo lokal kantitatearen estimazioa egin beharko zen aukeran ditugun inguruneekin. Emaitza\n",
    "fidagarri bat lortzeko m eta ebaluazio kantitate adierazgarria erabili beharko ziren. Baina, problema oso handia denezez, \n",
    "hainbat aldiz errepikatzeak denbora asko kostako zaio. Beraz, problema honetan ez dut estimatu lokal optimoen kantitatea.\n",
    "Baina, bi moduetan probatu dut. Ondoren bien emaitzak eta hauen ondorioa aztertzen dut:\n",
    "\n",
    "Goiko grafikan ingurune nagusia insert erabili da (hamming/swap bigarren).\n",
    "\n",
    "Bestalde, ondorengo grafikan hamming/swap erabili da ingurune nagusia bezala (insert bigarren). \n",
    "\n",
    "        n    VND\n",
    "0      10  640.7\n",
    "1     100  640.7\n",
    "2    1000  640.7\n",
    "3   10000  605.4\n",
    "4  100000  476.8\n",
    "'''"
   ]
  },
  {
   "attachments": {
    "download.png": {
     "image/png": "[encoded data removed]"
    }
   },
   "cell_type": "markdown",
   "metadata": {},
   "source": [
    "![download.png](attachment:download.png)"
   ]
  },
  {
   "cell_type": "code",
   "execution_count": null,
   "metadata": {},
   "outputs": [],
   "source": [
    "'''\n",
    "Ikusi daiteke hamming/swap ingurune nagusi bezela erabiltzeak batazbestekoan soluzio hobe bat ematen duela insert baino\n",
    "(476.8 vs 527.0). Hau gertatzeko bi arrazoi bururatu zaizkit:\n",
    "\n",
    "    - Hamming/swap inguruneak optimo lokal ratio txikiagoa duela problema honetan (soluzio hobe baten bilatzea errazten du\n",
    "      optimo lokaletan gutxiago geratuko delako). Honen arrazoia swap egiterakoan inguruneko soluzio berriak\n",
    "      jatorrizkoarekiko gutxi adatzen deirela izan daiteke. Bestalde, insert-ek sortutako soluzio berriak jatorrizkoarekiko\n",
    "      asko aldatzen du, eta hori balteke problema honetarako okerragoa izatea. Jatorrikoarekiko asko aldatzeak ia ia random\n",
    "      egitea bezala izango zen (ez da berdina, asko aldatzen dela adierazteko konparaketa da).\n",
    "      \n",
    "    - Insert inguruneak ebaluazio asko galtzen ditu auzokide errepikatuak aztertzen. Lehen aipatu den bezela, nik insert \n",
    "      funtzioa implementatu dudan moduan soluzio errepikatuak sortu daitezke. Orduan, problema handi honetan soluzio asko\n",
    "      errepikatzean denbora eta ebaluazio asko galduko dira. Ondorioz, ebaluazio gutxiago egiten badira soluzio okerrago \n",
    "      batera iritsiko da (ebaluazio guztiak errepikatu gabeak izango balira soluzio hobe batera iristeko aukera gehiago izango\n",
    "      zituen). Hau konpontzeko nahikoa da insert funtzioak soluzio errepikatuak ez sortzea (ez dit denbora eman egiteko; eta,\n",
    "      gainera, honek bere kostua du).\n",
    "'''"
   ]
  }
 ],
 "metadata": {
  "kernelspec": {
   "display_name": "Python 3 (ipykernel)",
   "language": "python",
   "name": "python3"
  },
  "language_info": {
   "codemirror_mode": {
    "name": "ipython",
    "version": 3
   },
   "file_extension": ".py",
   "mimetype": "text/x-python",
   "name": "python",
   "nbconvert_exporter": "python",
   "pygments_lexer": "ipython3",
   "version": "3.10.7"
  }
 },
 "nbformat": 4,
 "nbformat_minor": 2
}
